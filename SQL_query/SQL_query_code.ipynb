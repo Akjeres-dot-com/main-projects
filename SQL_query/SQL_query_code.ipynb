{
 "cells": [
  {
   "cell_type": "markdown",
   "metadata": {},
   "source": [
    "# Создание ценностного предложения для нового продукта.\n",
    "<a id=\"home\"></a>"
   ]
  },
  {
   "cell_type": "markdown",
   "metadata": {},
   "source": [
    "На основе данных конкурирующей компании путем создания SQL-запросов требуется изучить основную информацию о книжном ассортименте и дать рекомендации для создания сервиса по торговле книгами."
   ]
  },
  {
   "cell_type": "markdown",
   "metadata": {},
   "source": [
    "## Содержание.\n",
    "\n",
    "1. [Знакомство с данными.](#stage_1)\n",
    "2. [Исследование данных.](#stage_2)\n",
    "    * [Книги, вышедшие в 2020 году.](#stage_2_1)\n",
    "    * [Рейтинги книг.](#stage_2_2)\n",
    "    * [Издательство, выпутившее наибольшее количество книг.](#stage_2_3)\n",
    "    * [Автор с самым высоким рейтингом.](#stage_2_4)\n",
    "3. [Вывод и рекомендации](#stage_3)"
   ]
  },
  {
   "cell_type": "markdown",
   "metadata": {},
   "source": [
    "## Знакомство с данными.\n",
    "<a id=\"stage_1\"></a>"
   ]
  },
  {
   "cell_type": "markdown",
   "metadata": {},
   "source": [
    "В первую очередь, выведем основную информацию о таблицах, познакомимся с данными. Все таблицы хранятся на удаленном сервере, следовательно, перед написанием запросов к библиотеке необходимо установить соединение."
   ]
  },
  {
   "cell_type": "code",
   "execution_count": 1,
   "metadata": {},
   "outputs": [],
   "source": [
    "# импортируем библиотеки\n",
    "import pandas as pd\n",
    "from sqlalchemy import create_engine\n",
    "# устанавливаем параметры\n",
    "db_config = {'user': 'praktikum_student', # имя пользователя\n",
    " 'pwd': 'Sdf4$2;d-d30pp', # пароль\n",
    " 'host': 'rc1b-wcoijxj3yxfsf3fs.mdb.yandexcloud.net',\n",
    " 'port': 6432, # порт подключения\n",
    " 'db': 'data-analyst-final-project-db'} # название базы данных\n",
    "connection_string = 'postgresql://{}:{}@{}:{}/{}'.format(db_config['user'],\n",
    " db_config['pwd'],\n",
    " db_config['host'],\n",
    " db_config['port'],\n",
    " db_config['db'])\n",
    "# сохраняем коннектор\n",
    "engine = create_engine(connection_string, connect_args={'sslmode':'require'}) "
   ]
  },
  {
   "cell_type": "markdown",
   "metadata": {},
   "source": [
    "Теперь можно переходить к извлечению данных. Для начала загрузим полные данные таблиц и выведем основную информацию, используя метод info()."
   ]
  },
  {
   "cell_type": "code",
   "execution_count": 2,
   "metadata": {},
   "outputs": [],
   "source": [
    "#Извлекаем необходимые данные из всех таблиц\n",
    "query_books_df = '''\n",
    "SELECT * FROM books \n",
    "'''\n",
    "query_authors_df = '''\n",
    "SELECT * FROM authors \n",
    "'''\n",
    "query_publishers_df = '''\n",
    "SELECT * FROM publishers \n",
    "'''\n",
    "query_ratings_df = '''\n",
    "SELECT * FROM ratings \n",
    "'''\n",
    "query_reviews_df = '''\n",
    "SELECT * FROM reviews \n",
    "'''\n",
    "# Создаем БД, которыми можно оперировать в Pandas\n",
    "books_df = pd.io.sql.read_sql(query_books_df, con = engine)\n",
    "authors_df = pd.io.sql.read_sql(query_authors_df, con = engine)\n",
    "publishers_df = pd.io.sql.read_sql(query_publishers_df, con = engine)\n",
    "ratings_df = pd.io.sql.read_sql(query_ratings_df, con = engine)\n",
    "reviews_df = pd.io.sql.read_sql(query_reviews_df, con = engine)"
   ]
  },
  {
   "cell_type": "code",
   "execution_count": 3,
   "metadata": {},
   "outputs": [
    {
     "name": "stdout",
     "output_type": "stream",
     "text": [
      "------------- БД books с данными о книгах ---------------\n",
      "<class 'pandas.core.frame.DataFrame'>\n",
      "RangeIndex: 1000 entries, 0 to 999\n",
      "Data columns (total 6 columns):\n",
      "book_id             1000 non-null int64\n",
      "author_id           1000 non-null int64\n",
      "title               1000 non-null object\n",
      "num_pages           1000 non-null int64\n",
      "publication_date    1000 non-null object\n",
      "publisher_id        1000 non-null int64\n",
      "dtypes: int64(4), object(2)\n",
      "memory usage: 47.0+ KB\n",
      "None\n",
      "\n",
      "Index(['book_id', 'author_id', 'title', 'num_pages', 'publication_date',\n",
      "       'publisher_id'],\n",
      "      dtype='object')\n",
      "\n",
      "   book_id  author_id                               title  num_pages  \\\n",
      "0        1        546                        'Salem's Lot        594   \n",
      "1        2        465  1 000 Places to See Before You Die        992   \n",
      "\n",
      "  publication_date  publisher_id  \n",
      "0       2005-11-01            93  \n",
      "1       2003-05-22           336  \n",
      "\n",
      "\n",
      "------------- БД authors с данными об авторах ---------------\n",
      "<class 'pandas.core.frame.DataFrame'>\n",
      "RangeIndex: 636 entries, 0 to 635\n",
      "Data columns (total 2 columns):\n",
      "author_id    636 non-null int64\n",
      "author       636 non-null object\n",
      "dtypes: int64(1), object(1)\n",
      "memory usage: 10.1+ KB\n",
      "None\n",
      "\n",
      "Index(['author_id', 'author'], dtype='object')\n",
      "\n",
      "   author_id                          author\n",
      "0          1                      A.S. Byatt\n",
      "1          2  Aesop/Laura Harris/Laura Gibbs\n",
      "\n",
      "\n",
      "------------- БД publishers с данными об издательствах ---------------\n",
      "<class 'pandas.core.frame.DataFrame'>\n",
      "RangeIndex: 340 entries, 0 to 339\n",
      "Data columns (total 2 columns):\n",
      "publisher_id    340 non-null int64\n",
      "publisher       340 non-null object\n",
      "dtypes: int64(1), object(1)\n",
      "memory usage: 5.4+ KB\n",
      "None\n",
      "\n",
      "Index(['publisher_id', 'publisher'], dtype='object')\n",
      "\n",
      "   publisher_id publisher\n",
      "0             1       Ace\n",
      "1             2  Ace Book\n",
      "\n",
      "\n",
      "------------- БД ratings с данными о пользовательских оценках книг ---------------\n",
      "<class 'pandas.core.frame.DataFrame'>\n",
      "RangeIndex: 6456 entries, 0 to 6455\n",
      "Data columns (total 4 columns):\n",
      "rating_id    6456 non-null int64\n",
      "book_id      6456 non-null int64\n",
      "username     6456 non-null object\n",
      "rating       6456 non-null int64\n",
      "dtypes: int64(3), object(1)\n",
      "memory usage: 201.9+ KB\n",
      "None\n",
      "\n",
      "Index(['rating_id', 'book_id', 'username', 'rating'], dtype='object')\n",
      "\n",
      "   rating_id  book_id       username  rating\n",
      "0          1        1     ryanfranco       4\n",
      "1          2        1  grantpatricia       2\n",
      "\n",
      "\n",
      "------------- БД reviews с данными о пользовательских обзорах книг ---------------\n",
      "<class 'pandas.core.frame.DataFrame'>\n",
      "RangeIndex: 2793 entries, 0 to 2792\n",
      "Data columns (total 4 columns):\n",
      "review_id    2793 non-null int64\n",
      "book_id      2793 non-null int64\n",
      "username     2793 non-null object\n",
      "text         2793 non-null object\n",
      "dtypes: int64(2), object(2)\n",
      "memory usage: 87.4+ KB\n",
      "None\n",
      "\n",
      "Index(['review_id', 'book_id', 'username', 'text'], dtype='object')\n",
      "\n",
      "   review_id  book_id      username  \\\n",
      "0          1        1  brandtandrea   \n",
      "1          2        1    ryanfranco   \n",
      "\n",
      "                                                text  \n",
      "0  Mention society tell send professor analysis. ...  \n",
      "1  Foot glass pretty audience hit themselves. Amo...  \n",
      "\n",
      "\n"
     ]
    }
   ],
   "source": [
    "## Проверяем излвечение, устанавливаем основную информацию о БД:\n",
    "# Присваиваем имена для БД\n",
    "books_df.name = \"БД books с данными о книгах\"\n",
    "authors_df.name = \"БД authors с данными об авторах\"\n",
    "publishers_df.name = \"БД publishers с данными об издательствах\"\n",
    "ratings_df.name = \"БД ratings с данными о пользовательских оценках книг\"\n",
    "reviews_df.name = \"БД reviews с данными о пользовательских обзорах книг\"\n",
    "\n",
    "# Создаем цикл для красивого вывода данных\n",
    "list_of_df = [books_df,authors_df,publishers_df,ratings_df,reviews_df]\n",
    "for element in list_of_df:\n",
    "    print('-------------',element.name,'---------------')\n",
    "    print(element.info())\n",
    "    print()\n",
    "    print(element.columns)\n",
    "    print()\n",
    "    print(element.head(2))\n",
    "    print()\n",
    "    print()"
   ]
  },
  {
   "cell_type": "markdown",
   "metadata": {},
   "source": [
    "Данные были загружены корректно. Структура данных соответствует ТЗ, пропусков не наблюдается. Единственное, на что стоит обратить внимание при проведении запросов - тип данных в дате. Необходимо привести его к корректному виду, выполняя SQL-запрос. Можно переходить к более сложным запросам."
   ]
  },
  {
   "cell_type": "markdown",
   "metadata": {},
   "source": [
    "[К оглавлению.](#home)"
   ]
  },
  {
   "cell_type": "markdown",
   "metadata": {},
   "source": [
    "## Исследование данных.\n",
    "<a id=\"stage_2\"></a>"
   ]
  },
  {
   "cell_type": "markdown",
   "metadata": {},
   "source": [
    "#### Книги, вышедшие в 2020 году.\n",
    "<a id=\"stage_2_1\"></a>"
   ]
  },
  {
   "cell_type": "markdown",
   "metadata": {},
   "source": [
    "Поскольку мы отчасти проверяем гипотезу о росте внимания потребителей к книгам ввиду увеличения свободного времени из-за пандемии, стоит посмотреть, что может предложить им индустрия в 2020-м году: сколько новинок представлено на рынке.\n",
    "\n",
    "Для ответа на этот вопрос, обратимся к БД books."
   ]
  },
  {
   "cell_type": "code",
   "execution_count": 4,
   "metadata": {},
   "outputs": [],
   "source": [
    "# Создаем новый запрос:количество книг, вышедших после 1 января 2020 года\n",
    "query_count_books_2000 = '''\n",
    "SELECT\n",
    "COUNT(book_id) AS cnt_books\n",
    "FROM books\n",
    "WHERE\n",
    "publication_date :: date >= '2000-01-01'\n",
    "'''"
   ]
  },
  {
   "cell_type": "code",
   "execution_count": 5,
   "metadata": {},
   "outputs": [
    {
     "data": {
      "text/html": [
       "<div>\n",
       "<style scoped>\n",
       "    .dataframe tbody tr th:only-of-type {\n",
       "        vertical-align: middle;\n",
       "    }\n",
       "\n",
       "    .dataframe tbody tr th {\n",
       "        vertical-align: top;\n",
       "    }\n",
       "\n",
       "    .dataframe thead th {\n",
       "        text-align: right;\n",
       "    }\n",
       "</style>\n",
       "<table border=\"1\" class=\"dataframe\">\n",
       "  <thead>\n",
       "    <tr style=\"text-align: right;\">\n",
       "      <th></th>\n",
       "      <th>cnt_books</th>\n",
       "    </tr>\n",
       "  </thead>\n",
       "  <tbody>\n",
       "    <tr>\n",
       "      <td>0</td>\n",
       "      <td>821</td>\n",
       "    </tr>\n",
       "  </tbody>\n",
       "</table>\n",
       "</div>"
      ],
      "text/plain": [
       "   cnt_books\n",
       "0        821"
      ]
     },
     "execution_count": 5,
     "metadata": {},
     "output_type": "execute_result"
    }
   ],
   "source": [
    "displ_query_count_books_2000 = pd.io.sql.read_sql(query_count_books_2000, con = engine)\n",
    "displ_query_count_books_2000"
   ]
  },
  {
   "cell_type": "markdown",
   "metadata": {},
   "source": [
    "821 книга вышла после 2000 года. "
   ]
  },
  {
   "cell_type": "markdown",
   "metadata": {},
   "source": [
    "[К оглавлению.](#home)"
   ]
  },
  {
   "cell_type": "markdown",
   "metadata": {},
   "source": [
    "#### Рейтинги книг.\n",
    "<a id=\"stage_2_2\"></a>"
   ]
  },
  {
   "cell_type": "code",
   "execution_count": 6,
   "metadata": {},
   "outputs": [
    {
     "data": {
      "text/html": [
       "<div>\n",
       "<style scoped>\n",
       "    .dataframe tbody tr th:only-of-type {\n",
       "        vertical-align: middle;\n",
       "    }\n",
       "\n",
       "    .dataframe tbody tr th {\n",
       "        vertical-align: top;\n",
       "    }\n",
       "\n",
       "    .dataframe thead th {\n",
       "        text-align: right;\n",
       "    }\n",
       "</style>\n",
       "<table border=\"1\" class=\"dataframe\">\n",
       "  <thead>\n",
       "    <tr style=\"text-align: right;\">\n",
       "      <th></th>\n",
       "      <th>title</th>\n",
       "      <th>cnt_reviews</th>\n",
       "      <th>avg_rating</th>\n",
       "    </tr>\n",
       "  </thead>\n",
       "  <tbody>\n",
       "    <tr>\n",
       "      <td>0</td>\n",
       "      <td>Memoirs of a Geisha</td>\n",
       "      <td>8</td>\n",
       "      <td>4.138462</td>\n",
       "    </tr>\n",
       "    <tr>\n",
       "      <td>1</td>\n",
       "      <td>Twilight (Twilight  #1)</td>\n",
       "      <td>7</td>\n",
       "      <td>3.662500</td>\n",
       "    </tr>\n",
       "    <tr>\n",
       "      <td>2</td>\n",
       "      <td>Harry Potter and the Chamber of Secrets (Harry...</td>\n",
       "      <td>6</td>\n",
       "      <td>4.287500</td>\n",
       "    </tr>\n",
       "    <tr>\n",
       "      <td>3</td>\n",
       "      <td>The Glass Castle</td>\n",
       "      <td>6</td>\n",
       "      <td>4.206897</td>\n",
       "    </tr>\n",
       "    <tr>\n",
       "      <td>4</td>\n",
       "      <td>Eat  Pray  Love</td>\n",
       "      <td>6</td>\n",
       "      <td>3.395833</td>\n",
       "    </tr>\n",
       "    <tr>\n",
       "      <td>...</td>\n",
       "      <td>...</td>\n",
       "      <td>...</td>\n",
       "      <td>...</td>\n",
       "    </tr>\n",
       "    <tr>\n",
       "      <td>994</td>\n",
       "      <td>Anne Rice's The Vampire Lestat: A Graphic Novel</td>\n",
       "      <td>0</td>\n",
       "      <td>3.666667</td>\n",
       "    </tr>\n",
       "    <tr>\n",
       "      <td>995</td>\n",
       "      <td>The Natural Way to Draw</td>\n",
       "      <td>0</td>\n",
       "      <td>3.000000</td>\n",
       "    </tr>\n",
       "    <tr>\n",
       "      <td>996</td>\n",
       "      <td>The Cat in the Hat and Other Dr. Seuss Favorites</td>\n",
       "      <td>0</td>\n",
       "      <td>5.000000</td>\n",
       "    </tr>\n",
       "    <tr>\n",
       "      <td>997</td>\n",
       "      <td>Essential Tales and Poems</td>\n",
       "      <td>0</td>\n",
       "      <td>4.000000</td>\n",
       "    </tr>\n",
       "    <tr>\n",
       "      <td>998</td>\n",
       "      <td>Disney's Beauty and the Beast (A Little Golden...</td>\n",
       "      <td>0</td>\n",
       "      <td>4.000000</td>\n",
       "    </tr>\n",
       "  </tbody>\n",
       "</table>\n",
       "<p>999 rows × 3 columns</p>\n",
       "</div>"
      ],
      "text/plain": [
       "                                                 title  cnt_reviews  \\\n",
       "0                                  Memoirs of a Geisha            8   \n",
       "1                              Twilight (Twilight  #1)            7   \n",
       "2    Harry Potter and the Chamber of Secrets (Harry...            6   \n",
       "3                                     The Glass Castle            6   \n",
       "4                                      Eat  Pray  Love            6   \n",
       "..                                                 ...          ...   \n",
       "994    Anne Rice's The Vampire Lestat: A Graphic Novel            0   \n",
       "995                            The Natural Way to Draw            0   \n",
       "996   The Cat in the Hat and Other Dr. Seuss Favorites            0   \n",
       "997                          Essential Tales and Poems            0   \n",
       "998  Disney's Beauty and the Beast (A Little Golden...            0   \n",
       "\n",
       "     avg_rating  \n",
       "0      4.138462  \n",
       "1      3.662500  \n",
       "2      4.287500  \n",
       "3      4.206897  \n",
       "4      3.395833  \n",
       "..          ...  \n",
       "994    3.666667  \n",
       "995    3.000000  \n",
       "996    5.000000  \n",
       "997    4.000000  \n",
       "998    4.000000  \n",
       "\n",
       "[999 rows x 3 columns]"
      ]
     },
     "execution_count": 6,
     "metadata": {},
     "output_type": "execute_result"
    }
   ],
   "source": [
    "# Создаем новый запрос:количество обзоров и средний рейтинг всех книг.\n",
    "query_ratings_reviews = '''\n",
    "SELECT\n",
    "books.title AS title,\n",
    "COUNT(DISTINCT reviews.review_id) AS cnt_reviews,\n",
    "AVG(ratings.rating) AS avg_rating\n",
    "FROM books\n",
    "LEFT JOIN ratings ON ratings.book_id = books.book_id\n",
    "LEFT JOIN reviews ON reviews.book_id = books.book_id\n",
    "GROUP BY\n",
    "books.title\n",
    "ORDER BY\n",
    "cnt_reviews DESC\n",
    "'''\n",
    "displ_query_ratings_reviews = pd.io.sql.read_sql(query_ratings_reviews, con = engine)\n",
    "displ_query_ratings_reviews"
   ]
  },
  {
   "cell_type": "markdown",
   "metadata": {},
   "source": [
    "Теперь у нас есть выборка книг, которую можно ранжировать по рейтингу и количеству обзоров. Выше представлен ТОП-5 и анти-ТОП-5 книг в зависимости от количества ревью. Стоит отметить, что не всегда самыми обсуждаемыми книгами становятся книги с высоким рейтингом. Обсуждаемость - это, скорее, заслуга маркетологов! Информация из этого рейтинга уже может быть принята к действию. \n",
    "\n",
    "По крайнем мере можно в бОльших количесвах заказывать книги именно популярных и хороших авторов."
   ]
  },
  {
   "cell_type": "markdown",
   "metadata": {},
   "source": [
    "[К оглавлению.](#home)"
   ]
  },
  {
   "cell_type": "markdown",
   "metadata": {},
   "source": [
    "#### Издательство, выпустившие наибольшее количеств книг.\n",
    "<a id=\"stage_2_3\"></a>"
   ]
  },
  {
   "cell_type": "markdown",
   "metadata": {},
   "source": [
    "Узнаем название наиболее успешного издательства в разрезе выпуска книг"
   ]
  },
  {
   "cell_type": "code",
   "execution_count": 7,
   "metadata": {},
   "outputs": [
    {
     "data": {
      "text/html": [
       "<div>\n",
       "<style scoped>\n",
       "    .dataframe tbody tr th:only-of-type {\n",
       "        vertical-align: middle;\n",
       "    }\n",
       "\n",
       "    .dataframe tbody tr th {\n",
       "        vertical-align: top;\n",
       "    }\n",
       "\n",
       "    .dataframe thead th {\n",
       "        text-align: right;\n",
       "    }\n",
       "</style>\n",
       "<table border=\"1\" class=\"dataframe\">\n",
       "  <thead>\n",
       "    <tr style=\"text-align: right;\">\n",
       "      <th></th>\n",
       "      <th>publisher</th>\n",
       "      <th>cnt_books</th>\n",
       "    </tr>\n",
       "  </thead>\n",
       "  <tbody>\n",
       "    <tr>\n",
       "      <td>0</td>\n",
       "      <td>Penguin Books</td>\n",
       "      <td>42</td>\n",
       "    </tr>\n",
       "  </tbody>\n",
       "</table>\n",
       "</div>"
      ],
      "text/plain": [
       "       publisher  cnt_books\n",
       "0  Penguin Books         42"
      ]
     },
     "execution_count": 7,
     "metadata": {},
     "output_type": "execute_result"
    }
   ],
   "source": [
    "# Создаем новый запрос:Издательство, выпустившее наибольшее количество книг толще 50 страниц\n",
    "query_publisher_top = '''\n",
    "SELECT\n",
    "publishers.publisher AS publisher,\n",
    "COUNT(books.book_id) AS cnt_books\n",
    "FROM books\n",
    "INNER JOIN publishers ON publishers.publisher_id = books.publisher_id\n",
    "WHERE\n",
    "books.num_pages > 50\n",
    "GROUP BY\n",
    "publishers.publisher\n",
    "ORDER BY\n",
    "cnt_books DESC\n",
    "LIMIT 1\n",
    "'''\n",
    "displ_query_publisher_top = pd.io.sql.read_sql(query_publisher_top, con = engine)\n",
    "displ_query_publisher_top"
   ]
  },
  {
   "cell_type": "markdown",
   "metadata": {},
   "source": [
    "Выпускающее наиболее количество книг издательство это \"Penguin Books\". Возможно экономия от масштаба позволяет издательству делать скидки для оптовых покупателей. В этом случае, наиболее популярные книги следует заказывать у этого издательства."
   ]
  },
  {
   "cell_type": "markdown",
   "metadata": {},
   "source": [
    "[К оглавлению.](#home)"
   ]
  },
  {
   "cell_type": "markdown",
   "metadata": {},
   "source": [
    "#### Автор с самым высоким рейтингом.\n",
    "<a id=\"stage_2_4\"></a>"
   ]
  },
  {
   "cell_type": "markdown",
   "metadata": {},
   "source": [
    "Для проработки товарного ассортимента будет полезным определить наиболее популярного автора. Создадим соответствующий запрос."
   ]
  },
  {
   "cell_type": "code",
   "execution_count": 8,
   "metadata": {},
   "outputs": [
    {
     "data": {
      "text/html": [
       "<div>\n",
       "<style scoped>\n",
       "    .dataframe tbody tr th:only-of-type {\n",
       "        vertical-align: middle;\n",
       "    }\n",
       "\n",
       "    .dataframe tbody tr th {\n",
       "        vertical-align: top;\n",
       "    }\n",
       "\n",
       "    .dataframe thead th {\n",
       "        text-align: right;\n",
       "    }\n",
       "</style>\n",
       "<table border=\"1\" class=\"dataframe\">\n",
       "  <thead>\n",
       "    <tr style=\"text-align: right;\">\n",
       "      <th></th>\n",
       "      <th>author</th>\n",
       "      <th>avg_rating</th>\n",
       "    </tr>\n",
       "  </thead>\n",
       "  <tbody>\n",
       "    <tr>\n",
       "      <td>0</td>\n",
       "      <td>J.K. Rowling/Mary GrandPré</td>\n",
       "      <td>4.283844</td>\n",
       "    </tr>\n",
       "    <tr>\n",
       "      <td>1</td>\n",
       "      <td>Markus Zusak/Cao Xuân Việt Khương</td>\n",
       "      <td>4.264151</td>\n",
       "    </tr>\n",
       "    <tr>\n",
       "      <td>2</td>\n",
       "      <td>J.R.R. Tolkien</td>\n",
       "      <td>4.258446</td>\n",
       "    </tr>\n",
       "    <tr>\n",
       "      <td>3</td>\n",
       "      <td>Louisa May Alcott</td>\n",
       "      <td>4.192308</td>\n",
       "    </tr>\n",
       "    <tr>\n",
       "      <td>4</td>\n",
       "      <td>Arthur Golden</td>\n",
       "      <td>4.107143</td>\n",
       "    </tr>\n",
       "    <tr>\n",
       "      <td>5</td>\n",
       "      <td>Rick Riordan</td>\n",
       "      <td>4.080645</td>\n",
       "    </tr>\n",
       "    <tr>\n",
       "      <td>6</td>\n",
       "      <td>William Golding</td>\n",
       "      <td>3.901408</td>\n",
       "    </tr>\n",
       "    <tr>\n",
       "      <td>7</td>\n",
       "      <td>J.D. Salinger</td>\n",
       "      <td>3.825581</td>\n",
       "    </tr>\n",
       "    <tr>\n",
       "      <td>8</td>\n",
       "      <td>Paulo Coelho/Alan R. Clarke/Özdemir İnce</td>\n",
       "      <td>3.789474</td>\n",
       "    </tr>\n",
       "    <tr>\n",
       "      <td>9</td>\n",
       "      <td>William Shakespeare/Paul Werstine/Barbara A. M...</td>\n",
       "      <td>3.787879</td>\n",
       "    </tr>\n",
       "  </tbody>\n",
       "</table>\n",
       "</div>"
      ],
      "text/plain": [
       "                                              author  avg_rating\n",
       "0                         J.K. Rowling/Mary GrandPré    4.283844\n",
       "1                  Markus Zusak/Cao Xuân Việt Khương    4.264151\n",
       "2                                     J.R.R. Tolkien    4.258446\n",
       "3                                  Louisa May Alcott    4.192308\n",
       "4                                      Arthur Golden    4.107143\n",
       "5                                       Rick Riordan    4.080645\n",
       "6                                    William Golding    3.901408\n",
       "7                                      J.D. Salinger    3.825581\n",
       "8           Paulo Coelho/Alan R. Clarke/Özdemir İnce    3.789474\n",
       "9  William Shakespeare/Paul Werstine/Barbara A. M...    3.787879"
      ]
     },
     "execution_count": 8,
     "metadata": {},
     "output_type": "execute_result"
    }
   ],
   "source": [
    "# Создаем новый запрос:Самый популярный автор\n",
    "query_author_top = '''\n",
    "SELECT\n",
    "sub_query.author AS author,\n",
    "AVG(sub_query.avg_rating) AS avg_rating\n",
    "FROM\n",
    "(SELECT\n",
    "authors.author AS author,\n",
    "books.title AS title,\n",
    "AVG(ratings.rating) AS avg_rating,\n",
    "COUNT(ratings.rating_id) AS cnt_opinions\n",
    "FROM books\n",
    "INNER JOIN authors ON authors.author_id = books.author_id\n",
    "INNER JOIN ratings ON ratings.book_id = books.book_id\n",
    "GROUP BY\n",
    "authors.author,\n",
    "books.title) AS sub_query\n",
    "WHERE\n",
    "cnt_opinions > 50\n",
    "GROUP BY\n",
    "author\n",
    "ORDER BY\n",
    "avg_rating DESC\n",
    "LIMIT 10\n",
    "'''\n",
    "displ_query_author_top = pd.io.sql.read_sql(query_author_top, con = engine)\n",
    "displ_query_author_top"
   ]
  },
  {
   "cell_type": "markdown",
   "metadata": {},
   "source": [
    "Самым популярным автором подборки с рейтингом 4,28 стала J.K. Rowling. Гарри Поттер..казалось бы, после стольких лет...=)\n",
    "\n",
    "Это небольшое лирическое отступление вызвано искренней любовью автора к творчеству этой английской писательницы. Ее книги стали популярны во всем мире, часто переиздаются и до сих пор присутствуют в каждом книжном магазине."
   ]
  },
  {
   "cell_type": "code",
   "execution_count": 9,
   "metadata": {
    "scrolled": true
   },
   "outputs": [
    {
     "data": {
      "text/html": [
       "<div>\n",
       "<style scoped>\n",
       "    .dataframe tbody tr th:only-of-type {\n",
       "        vertical-align: middle;\n",
       "    }\n",
       "\n",
       "    .dataframe tbody tr th {\n",
       "        vertical-align: top;\n",
       "    }\n",
       "\n",
       "    .dataframe thead th {\n",
       "        text-align: right;\n",
       "    }\n",
       "</style>\n",
       "<table border=\"1\" class=\"dataframe\">\n",
       "  <thead>\n",
       "    <tr style=\"text-align: right;\">\n",
       "      <th></th>\n",
       "      <th>avg_reviews</th>\n",
       "    </tr>\n",
       "  </thead>\n",
       "  <tbody>\n",
       "    <tr>\n",
       "      <td>0</td>\n",
       "      <td>24.333333</td>\n",
       "    </tr>\n",
       "  </tbody>\n",
       "</table>\n",
       "</div>"
      ],
      "text/plain": [
       "   avg_reviews\n",
       "0    24.333333"
      ]
     },
     "execution_count": 9,
     "metadata": {},
     "output_type": "execute_result"
    }
   ],
   "source": [
    "# Создаем новый запрос:Количество ревью активных пользователей\n",
    "query_avg_reviews = '''\n",
    "SELECT\n",
    "AVG(subquery_2.cnt_review_id) AS avg_reviews\n",
    "FROM\n",
    "(SELECT\n",
    "username AS username,\n",
    "COUNT(review_id) AS cnt_review_id\n",
    "FROM\n",
    "reviews\n",
    "GROUP BY\n",
    "username) AS subquery_2\n",
    "WHERE\n",
    "username IN\n",
    "(SELECT\n",
    "username AS username\n",
    "FROM ratings\n",
    "GROUP BY\n",
    "username\n",
    "HAVING \n",
    "COUNT(rating_id) > 50)\n",
    "'''\n",
    "displ_query_avg_reviews = pd.io.sql.read_sql(query_avg_reviews, con = engine)\n",
    "displ_query_avg_reviews"
   ]
  },
  {
   "cell_type": "markdown",
   "metadata": {},
   "source": [
    "В среднем активные пользователи оставляют 17 ревью на книги. К их оценкам стоит прислушиваться при формировании каталога книг. Проведя все исследования можно сформулировать краткие рекоммендации."
   ]
  },
  {
   "cell_type": "markdown",
   "metadata": {},
   "source": [
    "[К оглавлению.](#home)"
   ]
  },
  {
   "cell_type": "markdown",
   "metadata": {},
   "source": [
    "## Выводы и рекомендации.\n",
    "<a id=\"stage_3\"></a>"
   ]
  },
  {
   "cell_type": "markdown",
   "metadata": {},
   "source": [
    "В качестве рекомендации можно посоветовать сделать акцент на максимально популярные книги с наибольшим количеством отзывов. При этом обновление ассортимента может быть произведено на основании тех рецензий, которые пишут наиболее активные ревьюеры. И, конечно, не забываем о Гарри Поттере в разных изданиях.\n",
    "\n",
    "Для экономии средств, можно обращаться к крупным издательским домам с большим товарооборотом. Такие компании, возможно, смогут предоставить скидки, у них наверняка есть подходящая инфраструктура для некоторых важных бизнес-процессов."
   ]
  },
  {
   "cell_type": "markdown",
   "metadata": {},
   "source": [
    "[К оглавлению.](#home)"
   ]
  }
 ],
 "metadata": {
  "kernelspec": {
   "display_name": "Python 3",
   "language": "python",
   "name": "python3"
  },
  "language_info": {
   "codemirror_mode": {
    "name": "ipython",
    "version": 3
   },
   "file_extension": ".py",
   "mimetype": "text/x-python",
   "name": "python",
   "nbconvert_exporter": "python",
   "pygments_lexer": "ipython3",
   "version": "3.7.6"
  }
 },
 "nbformat": 4,
 "nbformat_minor": 4
}
